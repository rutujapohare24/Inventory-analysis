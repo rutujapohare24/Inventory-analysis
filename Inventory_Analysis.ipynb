{
  "nbformat": 4,
  "nbformat_minor": 0,
  "metadata": {
    "colab": {
      "provenance": []
    },
    "kernelspec": {
      "name": "python3",
      "display_name": "Python 3"
    },
    "language_info": {
      "name": "python"
    }
  },
  "cells": [
    {
      "cell_type": "code",
      "execution_count": 1,
      "metadata": {
        "colab": {
          "base_uri": "https://localhost:8080/"
        },
        "id": "czLJY5fmjoDk",
        "outputId": "ea205c20-718d-4f6d-f240-94bebe0f972d"
      },
      "outputs": [
        {
          "output_type": "stream",
          "name": "stdout",
          "text": [
            "Drive already mounted at /content/drive; to attempt to forcibly remount, call drive.mount(\"/content/drive\", force_remount=True).\n"
          ]
        }
      ],
      "source": [
        "from google.colab import drive\n",
        "\n",
        "\n",
        "# Mount Google Drive\n",
        "drive.mount('/content/drive')\n",
        "\n",
        "# Path to the CSV file on your local machine\n",
        "local_csv_path = '/content/drive/MyDrive/Supply_Chain_Dataset.csv'  # Replace with the actual path to your CSV file\n",
        "\n",
        "\n",
        "\n",
        "\n"
      ]
    },
    {
      "cell_type": "code",
      "source": [
        "# Read the CSV file into a DataFrame\n",
        "import pandas as pd\n",
        "# Read the CSV file into a DataFrame with a specified encoding\n",
        "df = pd.read_csv(local_csv_path, encoding='latin1')\n",
        "\n",
        "# Display the first few rows of the DataFrame\n",
        "print(df.columns)\n",
        "\n"
      ],
      "metadata": {
        "colab": {
          "base_uri": "https://localhost:8080/"
        },
        "id": "mh4sSMHfkXOw",
        "outputId": "7bd8838f-1517-4d08-f8dd-0f4b425d7212"
      },
      "execution_count": 2,
      "outputs": [
        {
          "output_type": "stream",
          "name": "stdout",
          "text": [
            "Index(['Type', 'Days for shipping (real)', 'Days for shipment (scheduled)',\n",
            "       'Benefit per order', 'Sales per customer', 'Delivery Status',\n",
            "       'Late_delivery_risk', 'Category Id', 'Category Name', 'Customer City',\n",
            "       'Customer Country', 'Customer Email', 'Customer Fname', 'Customer Id',\n",
            "       'Customer Lname', 'Customer Password', 'Customer Segment',\n",
            "       'Customer State', 'Customer Street', 'Customer Zipcode',\n",
            "       'Department Id', 'Department Name', 'Latitude', 'Longitude', 'Market',\n",
            "       'Order City', 'Order Country', 'Order Customer Id',\n",
            "       'order date (DateOrders)', 'Order Id', 'Order Item Cardprod Id',\n",
            "       'Order Item Discount', 'Order Item Discount Rate', 'Order Item Id',\n",
            "       'Order Item Product Price', 'Order Item Profit Ratio',\n",
            "       'Order Item Quantity', 'Sales', 'Order Item Total',\n",
            "       'Order Profit Per Order', 'Order Region', 'Order State', 'Order Status',\n",
            "       'Order Zipcode', 'Product Card Id', 'Product Category Id',\n",
            "       'Product Description', 'Product Image', 'Product Name', 'Product Price',\n",
            "       'Product Status', 'shipping date (DateOrders)', 'Shipping Mode'],\n",
            "      dtype='object')\n"
          ]
        }
      ]
    },
    {
      "cell_type": "code",
      "source": [
        "import pandas as pd\n",
        "\n",
        "# Assuming df is your DataFrame containing the data\n",
        "# If you haven't read the CSV file yet, you can read it with the correct encoding\n",
        "# df = pd.read_csv('path/to/your/file.csv', encoding='latin1')\n",
        "\n",
        "# Display the unique count of each column\n",
        "for column in df.columns:\n",
        "    unique_count = df[column].nunique()\n",
        "    print(f\"{column}: {unique_count} unique values\")\n",
        "\n",
        "# Alternatively, you can create a new DataFrame to store the results\n",
        "unique_counts_df = pd.DataFrame({'Column': df.columns, 'Unique Count': df.nunique()})\n",
        "\n",
        "# Display the DataFrame with unique counts\n",
        "print(unique_counts_df)\n"
      ],
      "metadata": {
        "colab": {
          "base_uri": "https://localhost:8080/"
        },
        "id": "zLOrabCAkXUD",
        "outputId": "1deb90b5-f2b4-4908-fe2a-25bd4c6346b0"
      },
      "execution_count": 3,
      "outputs": [
        {
          "output_type": "stream",
          "name": "stdout",
          "text": [
            "Type: 4 unique values\n",
            "Days for shipping (real): 7 unique values\n",
            "Days for shipment (scheduled): 4 unique values\n",
            "Benefit per order: 21998 unique values\n",
            "Sales per customer: 2927 unique values\n",
            "Delivery Status: 4 unique values\n",
            "Late_delivery_risk: 2 unique values\n",
            "Category Id: 51 unique values\n",
            "Category Name: 50 unique values\n",
            "Customer City: 563 unique values\n",
            "Customer Country: 2 unique values\n",
            "Customer Email: 1 unique values\n",
            "Customer Fname: 782 unique values\n",
            "Customer Id: 20652 unique values\n",
            "Customer Lname: 1109 unique values\n",
            "Customer Password: 1 unique values\n",
            "Customer Segment: 3 unique values\n",
            "Customer State: 46 unique values\n",
            "Customer Street: 7458 unique values\n",
            "Customer Zipcode: 995 unique values\n",
            "Department Id: 11 unique values\n",
            "Department Name: 11 unique values\n",
            "Latitude: 11250 unique values\n",
            "Longitude: 4487 unique values\n",
            "Market: 5 unique values\n",
            "Order City: 3597 unique values\n",
            "Order Country: 164 unique values\n",
            "Order Customer Id: 20652 unique values\n",
            "order date (DateOrders): 65752 unique values\n",
            "Order Id: 65752 unique values\n",
            "Order Item Cardprod Id: 118 unique values\n",
            "Order Item Discount: 1017 unique values\n",
            "Order Item Discount Rate: 18 unique values\n",
            "Order Item Id: 180519 unique values\n",
            "Order Item Product Price: 75 unique values\n",
            "Order Item Profit Ratio: 162 unique values\n",
            "Order Item Quantity: 5 unique values\n",
            "Sales: 193 unique values\n",
            "Order Item Total: 2927 unique values\n",
            "Order Profit Per Order: 21998 unique values\n",
            "Order Region: 23 unique values\n",
            "Order State: 1089 unique values\n",
            "Order Status: 9 unique values\n",
            "Order Zipcode: 609 unique values\n",
            "Product Card Id: 118 unique values\n",
            "Product Category Id: 51 unique values\n",
            "Product Description: 0 unique values\n",
            "Product Image: 118 unique values\n",
            "Product Name: 118 unique values\n",
            "Product Price: 75 unique values\n",
            "Product Status: 1 unique values\n",
            "shipping date (DateOrders): 63701 unique values\n",
            "Shipping Mode: 4 unique values\n",
            "                                                      Column  Unique Count\n",
            "Type                                                    Type             4\n",
            "Days for shipping (real)            Days for shipping (real)             7\n",
            "Days for shipment (scheduled)  Days for shipment (scheduled)             4\n",
            "Benefit per order                          Benefit per order         21998\n",
            "Sales per customer                        Sales per customer          2927\n",
            "Delivery Status                              Delivery Status             4\n",
            "Late_delivery_risk                        Late_delivery_risk             2\n",
            "Category Id                                      Category Id            51\n",
            "Category Name                                  Category Name            50\n",
            "Customer City                                  Customer City           563\n",
            "Customer Country                            Customer Country             2\n",
            "Customer Email                                Customer Email             1\n",
            "Customer Fname                                Customer Fname           782\n",
            "Customer Id                                      Customer Id         20652\n",
            "Customer Lname                                Customer Lname          1109\n",
            "Customer Password                          Customer Password             1\n",
            "Customer Segment                            Customer Segment             3\n",
            "Customer State                                Customer State            46\n",
            "Customer Street                              Customer Street          7458\n",
            "Customer Zipcode                            Customer Zipcode           995\n",
            "Department Id                                  Department Id            11\n",
            "Department Name                              Department Name            11\n",
            "Latitude                                            Latitude         11250\n",
            "Longitude                                          Longitude          4487\n",
            "Market                                                Market             5\n",
            "Order City                                        Order City          3597\n",
            "Order Country                                  Order Country           164\n",
            "Order Customer Id                          Order Customer Id         20652\n",
            "order date (DateOrders)              order date (DateOrders)         65752\n",
            "Order Id                                            Order Id         65752\n",
            "Order Item Cardprod Id                Order Item Cardprod Id           118\n",
            "Order Item Discount                      Order Item Discount          1017\n",
            "Order Item Discount Rate            Order Item Discount Rate            18\n",
            "Order Item Id                                  Order Item Id        180519\n",
            "Order Item Product Price            Order Item Product Price            75\n",
            "Order Item Profit Ratio              Order Item Profit Ratio           162\n",
            "Order Item Quantity                      Order Item Quantity             5\n",
            "Sales                                                  Sales           193\n",
            "Order Item Total                            Order Item Total          2927\n",
            "Order Profit Per Order                Order Profit Per Order         21998\n",
            "Order Region                                    Order Region            23\n",
            "Order State                                      Order State          1089\n",
            "Order Status                                    Order Status             9\n",
            "Order Zipcode                                  Order Zipcode           609\n",
            "Product Card Id                              Product Card Id           118\n",
            "Product Category Id                      Product Category Id            51\n",
            "Product Description                      Product Description             0\n",
            "Product Image                                  Product Image           118\n",
            "Product Name                                    Product Name           118\n",
            "Product Price                                  Product Price            75\n",
            "Product Status                                Product Status             1\n",
            "shipping date (DateOrders)        shipping date (DateOrders)         63701\n",
            "Shipping Mode                                  Shipping Mode             4\n"
          ]
        }
      ]
    },
    {
      "cell_type": "code",
      "source": [],
      "metadata": {
        "id": "-G7bKeL1kXbJ"
      },
      "execution_count": null,
      "outputs": []
    },
    {
      "cell_type": "code",
      "source": [
        "import pandas as pd\n",
        "\n",
        "# Assuming df is your DataFrame containing the data\n",
        "# If you haven't read the CSV file yet, you can read it with the correct encoding\n",
        "# df = pd.read_csv('path/to/your/file.csv', encoding='latin1')\n",
        "\n",
        "# Convert the 'order date (DateOrders)' column to a datetime object\n",
        "df['order date (DateOrders)'] = pd.to_datetime(df['order date (DateOrders)'])\n",
        "\n",
        "# Calculate the average number of orders per day\n",
        "average_orders_per_day = df.groupby(df['order date (DateOrders)'].dt.date)['Order Id'].count().mean()\n",
        "\n",
        "print(f\"Average number of orders per day: {average_orders_per_day}\")\n"
      ],
      "metadata": {
        "colab": {
          "base_uri": "https://localhost:8080/"
        },
        "id": "sZrWR_j2kXg8",
        "outputId": "85951b06-46f8-4dac-81d1-4e708d0612cd"
      },
      "execution_count": 4,
      "outputs": [
        {
          "output_type": "stream",
          "name": "stdout",
          "text": [
            "Average number of orders per day: 160.1765749778172\n"
          ]
        }
      ]
    },
    {
      "cell_type": "code",
      "source": [],
      "metadata": {
        "id": "vmSSTM0WkXmU"
      },
      "execution_count": null,
      "outputs": []
    },
    {
      "cell_type": "code",
      "source": [
        "import pandas as pd\n",
        "\n",
        "# Assuming df is your DataFrame containing the data\n",
        "# If you haven't read the CSV file yet, you can read it with the correct encoding\n",
        "# df = pd.read_csv('path/to/your/file.csv', encoding='latin1')\n",
        "\n",
        "# Calculate the distinct count of orders by department name and market\n",
        "distinct_orders_by_department_market = df.groupby(['Department Name', 'Market'])['Order Id'].nunique().reset_index()\n",
        "\n",
        "# Display the result\n",
        "print(distinct_orders_by_department_market)\n"
      ],
      "metadata": {
        "colab": {
          "base_uri": "https://localhost:8080/"
        },
        "id": "1dCvjgr7kXr6",
        "outputId": "30c38e11-27c7-4557-eba1-bb05354ca551"
      },
      "execution_count": 5,
      "outputs": [
        {
          "output_type": "stream",
          "name": "stdout",
          "text": [
            "       Department Name        Market  Order Id\n",
            "0              Apparel        Africa      2221\n",
            "1              Apparel        Europe      9979\n",
            "2              Apparel         LATAM      9778\n",
            "3              Apparel  Pacific Asia      8191\n",
            "4              Apparel          USCA      5021\n",
            "5            Book Shop        Europe       308\n",
            "6            Book Shop  Pacific Asia        97\n",
            "7           Discs Shop        Europe       348\n",
            "8           Discs Shop  Pacific Asia      1678\n",
            "9             Fan Shop        Africa      2755\n",
            "10            Fan Shop        Europe     11237\n",
            "11            Fan Shop         LATAM     12269\n",
            "12            Fan Shop  Pacific Asia      8985\n",
            "13            Fan Shop          USCA      6057\n",
            "14             Fitness        Africa       134\n",
            "15             Fitness        Europe       584\n",
            "16             Fitness         LATAM       635\n",
            "17             Fitness  Pacific Asia       769\n",
            "18             Fitness          USCA       315\n",
            "19            Footwear        Africa       875\n",
            "20            Footwear        Europe      3642\n",
            "21            Footwear         LATAM      3884\n",
            "22            Footwear  Pacific Asia      2732\n",
            "23            Footwear          USCA      1876\n",
            "24                Golf        Africa      1728\n",
            "25                Golf        Europe      7149\n",
            "26                Golf         LATAM      7773\n",
            "27                Golf  Pacific Asia      5303\n",
            "28                Golf          USCA      3936\n",
            "29  Health and Beauty   Pacific Asia       362\n",
            "30            Outdoors        Africa       586\n",
            "31            Outdoors        Europe      2297\n",
            "32            Outdoors         LATAM      2611\n",
            "33            Outdoors  Pacific Asia      2307\n",
            "34            Outdoors          USCA      1265\n",
            "35            Pet Shop  Pacific Asia       492\n",
            "36          Technology        Europe      1210\n",
            "37          Technology  Pacific Asia       255\n"
          ]
        }
      ]
    },
    {
      "cell_type": "code",
      "source": [],
      "metadata": {
        "id": "OKZaZcP3kXxY"
      },
      "execution_count": null,
      "outputs": []
    },
    {
      "cell_type": "code",
      "source": [
        "import pandas as pd\n",
        "\n",
        "\n",
        "# 1. Find the unique count of each column\n",
        "unique_counts = df.nunique()\n",
        "\n",
        "# 2. Calculate order count by department name and market\n",
        "order_count_by_department_market = df.groupby(['Department Name', 'Market'])['Order Id'].count().reset_index()\n",
        "\n",
        "\n",
        "\n",
        "# 4. Calculate quarterly order count by customer segment\n",
        "df['order date (DateOrders)'] = pd.to_datetime(df['order date (DateOrders)'])\n",
        "df['quarter'] = df['order date (DateOrders)'].dt.to_period('Q')\n",
        "\n",
        "quarterly_order_count_by_customer_segment = df.groupby(['quarter', 'Customer Segment'])['Order Id'].count().reset_index()\n",
        "\n",
        "# Display results\n",
        "print(\"Unique counts of each column:\")\n",
        "print(unique_counts)\n",
        "\n",
        "print(\"\\nOrder count by department name and market:\")\n",
        "print(order_count_by_department_market)\n",
        "\n",
        "print(\"\\nQuarterly order count by customer segment:\")\n",
        "print(quarterly_order_count_by_customer_segment)\n"
      ],
      "metadata": {
        "colab": {
          "base_uri": "https://localhost:8080/"
        },
        "id": "uBBJBltlkX2m",
        "outputId": "14f26042-0632-4054-de4f-3203238cf9f3"
      },
      "execution_count": 12,
      "outputs": [
        {
          "output_type": "stream",
          "name": "stdout",
          "text": [
            "Unique counts of each column:\n",
            "Type                                  4\n",
            "Days for shipping (real)              7\n",
            "Days for shipment (scheduled)         4\n",
            "Benefit per order                 21998\n",
            "Sales per customer                 2927\n",
            "Delivery Status                       4\n",
            "Late_delivery_risk                    2\n",
            "Category Id                          51\n",
            "Category Name                        50\n",
            "Customer City                       563\n",
            "Customer Country                      2\n",
            "Customer Email                        1\n",
            "Customer Fname                      782\n",
            "Customer Id                       20652\n",
            "Customer Lname                     1109\n",
            "Customer Password                     1\n",
            "Customer Segment                      3\n",
            "Customer State                       46\n",
            "Customer Street                    7458\n",
            "Customer Zipcode                    995\n",
            "Department Id                        11\n",
            "Department Name                      11\n",
            "Latitude                          11250\n",
            "Longitude                          4487\n",
            "Market                                5\n",
            "Order City                         3597\n",
            "Order Country                       164\n",
            "Order Customer Id                 20652\n",
            "order date (DateOrders)           65752\n",
            "Order Id                          65752\n",
            "Order Item Cardprod Id              118\n",
            "Order Item Discount                1017\n",
            "Order Item Discount Rate             18\n",
            "Order Item Id                    180519\n",
            "Order Item Product Price             75\n",
            "Order Item Profit Ratio             162\n",
            "Order Item Quantity                   5\n",
            "Sales                               193\n",
            "Order Item Total                   2927\n",
            "Order Profit Per Order            21998\n",
            "Order Region                         23\n",
            "Order State                        1089\n",
            "Order Status                          9\n",
            "Order Zipcode                       609\n",
            "Product Card Id                     118\n",
            "Product Category Id                  51\n",
            "Product Description                   0\n",
            "Product Image                       118\n",
            "Product Name                        118\n",
            "Product Price                        75\n",
            "Product Status                        1\n",
            "shipping date (DateOrders)        63701\n",
            "Shipping Mode                         4\n",
            "shipping_time_days                    6\n",
            "quarter                              13\n",
            "dtype: int64\n",
            "\n",
            "Order count by department name and market:\n",
            "       Department Name        Market  Order Id\n",
            "0              Apparel        Africa      3162\n",
            "1              Apparel        Europe     13778\n",
            "2              Apparel         LATAM     13844\n",
            "3              Apparel  Pacific Asia     11103\n",
            "4              Apparel          USCA      7111\n",
            "5            Book Shop        Europe       308\n",
            "6            Book Shop  Pacific Asia        97\n",
            "7           Discs Shop        Europe       348\n",
            "8           Discs Shop  Pacific Asia      1678\n",
            "9             Fan Shop        Africa      4474\n",
            "10            Fan Shop        Europe     18265\n",
            "11            Fan Shop         LATAM     20009\n",
            "12            Fan Shop  Pacific Asia     14266\n",
            "13            Fan Shop          USCA      9847\n",
            "14             Fitness        Africa       142\n",
            "15             Fitness        Europe       598\n",
            "16             Fitness         LATAM       641\n",
            "17             Fitness  Pacific Asia       780\n",
            "18             Fitness          USCA       318\n",
            "19            Footwear        Africa       985\n",
            "20            Footwear        Europe      4098\n",
            "21            Footwear         LATAM      4323\n",
            "22            Footwear  Pacific Asia      3021\n",
            "23            Footwear          USCA      2098\n",
            "24                Golf        Africa      2219\n",
            "25                Golf        Europe      9180\n",
            "26                Golf         LATAM      9963\n",
            "27                Golf  Pacific Asia      6776\n",
            "28                Golf          USCA      5082\n",
            "29  Health and Beauty   Pacific Asia       362\n",
            "30            Outdoors        Africa       632\n",
            "31            Outdoors        Europe      2467\n",
            "32            Outdoors         LATAM      2814\n",
            "33            Outdoors  Pacific Asia      2430\n",
            "34            Outdoors          USCA      1343\n",
            "35            Pet Shop  Pacific Asia       492\n",
            "36          Technology        Europe      1210\n",
            "37          Technology  Pacific Asia       255\n",
            "\n",
            "Quarterly order count by customer segment:\n",
            "   quarter Customer Segment  Order Id\n",
            "0   2015Q1         Consumer      7976\n",
            "1   2015Q1        Corporate      4644\n",
            "2   2015Q1      Home Office      2793\n",
            "3   2015Q2         Consumer      8121\n",
            "4   2015Q2        Corporate      4728\n",
            "5   2015Q2      Home Office      2768\n",
            "6   2015Q3         Consumer      8106\n",
            "7   2015Q3        Corporate      4860\n",
            "8   2015Q3      Home Office      2746\n",
            "9   2015Q4         Consumer      8075\n",
            "10  2015Q4        Corporate      4933\n",
            "11  2015Q4      Home Office      2900\n",
            "12  2016Q1         Consumer      7950\n",
            "13  2016Q1        Corporate      4647\n",
            "14  2016Q1      Home Office      2824\n",
            "15  2016Q2         Consumer      8059\n",
            "16  2016Q2        Corporate      4790\n",
            "17  2016Q2      Home Office      2604\n",
            "18  2016Q3         Consumer      8332\n",
            "19  2016Q3        Corporate      4606\n",
            "20  2016Q3      Home Office      2861\n",
            "21  2016Q4         Consumer      8371\n",
            "22  2016Q4        Corporate      4711\n",
            "23  2016Q4      Home Office      2795\n",
            "24  2017Q1         Consumer      7841\n",
            "25  2017Q1        Corporate      4856\n",
            "26  2017Q1      Home Office      2773\n",
            "27  2017Q2         Consumer      7948\n",
            "28  2017Q2        Corporate      4689\n",
            "29  2017Q2      Home Office      2843\n",
            "30  2017Q3         Consumer      8317\n",
            "31  2017Q3        Corporate      4721\n",
            "32  2017Q3      Home Office      2774\n",
            "33  2017Q4         Consumer      3339\n",
            "34  2017Q4        Corporate      1985\n",
            "35  2017Q4      Home Office      1110\n",
            "36  2018Q1         Consumer      1069\n",
            "37  2018Q1        Corporate       619\n",
            "38  2018Q1      Home Office       435\n"
          ]
        }
      ]
    },
    {
      "cell_type": "code",
      "source": [],
      "metadata": {
        "id": "1i346m1IkX7i"
      },
      "execution_count": null,
      "outputs": []
    },
    {
      "cell_type": "code",
      "source": [
        "import pandas as pd\n",
        "import numpy as np\n",
        "\n",
        "\n",
        "\n",
        "# Convert date columns to datetime\n",
        "df['order date (DateOrders)'] = pd.to_datetime(df['order date (DateOrders)'])\n",
        "df['shipping date (DateOrders)'] = pd.to_datetime(df['shipping date (DateOrders)'])\n",
        "\n",
        "# Calculate shipping time in days\n",
        "df['shipping_time_days'] = (df['shipping date (DateOrders)'] - df['order date (DateOrders)']).dt.days\n",
        "\n",
        "# Calculate average shipping time by department name and market\n",
        "shipping_time_by_department_market = df.groupby(['Department Name', 'Market'])['shipping_time_days'].mean().reset_index()\n",
        "\n",
        "# Define a custom rounding function\n",
        "def custom_round(x):\n",
        "    return np.floor(x) if x % 1 < 0.5 else np.ceil(x)\n",
        "\n",
        "# Apply the custom rounding function to round the average shipping time\n",
        "shipping_time_by_department_market['rounded_shipping_time'] = shipping_time_by_department_market['shipping_time_days'].apply(custom_round)\n",
        "\n",
        "# Display the result\n",
        "print(\"Average shipping time by department name and market (rounded off):\")\n",
        "print(shipping_time_by_department_market[['Department Name', 'Market', 'rounded_shipping_time']])\n"
      ],
      "metadata": {
        "colab": {
          "base_uri": "https://localhost:8080/"
        },
        "id": "m54ERdGRWNXH",
        "outputId": "1bdcb570-3966-4ad2-fced-47509e299a6b"
      },
      "execution_count": 11,
      "outputs": [
        {
          "output_type": "stream",
          "name": "stdout",
          "text": [
            "Average shipping time by department name and market (rounded off):\n",
            "       Department Name        Market  rounded_shipping_time\n",
            "0              Apparel        Africa                    4.0\n",
            "1              Apparel        Europe                    3.0\n",
            "2              Apparel         LATAM                    3.0\n",
            "3              Apparel  Pacific Asia                    3.0\n",
            "4              Apparel          USCA                    3.0\n",
            "5            Book Shop        Europe                    3.0\n",
            "6            Book Shop  Pacific Asia                    3.0\n",
            "7           Discs Shop        Europe                    4.0\n",
            "8           Discs Shop  Pacific Asia                    4.0\n",
            "9             Fan Shop        Africa                    3.0\n",
            "10            Fan Shop        Europe                    3.0\n",
            "11            Fan Shop         LATAM                    3.0\n",
            "12            Fan Shop  Pacific Asia                    3.0\n",
            "13            Fan Shop          USCA                    3.0\n",
            "14             Fitness        Africa                    3.0\n",
            "15             Fitness        Europe                    3.0\n",
            "16             Fitness         LATAM                    3.0\n",
            "17             Fitness  Pacific Asia                    4.0\n",
            "18             Fitness          USCA                    3.0\n",
            "19            Footwear        Africa                    3.0\n",
            "20            Footwear        Europe                    3.0\n",
            "21            Footwear         LATAM                    3.0\n",
            "22            Footwear  Pacific Asia                    3.0\n",
            "23            Footwear          USCA                    3.0\n",
            "24                Golf        Africa                    3.0\n",
            "25                Golf        Europe                    3.0\n",
            "26                Golf         LATAM                    3.0\n",
            "27                Golf  Pacific Asia                    3.0\n",
            "28                Golf          USCA                    3.0\n",
            "29  Health and Beauty   Pacific Asia                    3.0\n",
            "30            Outdoors        Africa                    4.0\n",
            "31            Outdoors        Europe                    4.0\n",
            "32            Outdoors         LATAM                    3.0\n",
            "33            Outdoors  Pacific Asia                    3.0\n",
            "34            Outdoors          USCA                    3.0\n",
            "35            Pet Shop  Pacific Asia                    3.0\n",
            "36          Technology        Europe                    3.0\n",
            "37          Technology  Pacific Asia                    4.0\n"
          ]
        }
      ]
    },
    {
      "cell_type": "code",
      "source": [],
      "metadata": {
        "id": "dPuTmsjfWNc3"
      },
      "execution_count": null,
      "outputs": []
    },
    {
      "cell_type": "code",
      "source": [],
      "metadata": {
        "id": "RL_i0XndWNh2"
      },
      "execution_count": null,
      "outputs": []
    },
    {
      "cell_type": "code",
      "source": [],
      "metadata": {
        "id": "kQLS5xEnWNnY"
      },
      "execution_count": null,
      "outputs": []
    }
  ]
}